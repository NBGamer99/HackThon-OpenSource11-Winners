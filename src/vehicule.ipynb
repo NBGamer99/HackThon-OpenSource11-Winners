{
 "cells": [
  {
   "cell_type": "code",
   "execution_count": 17,
   "metadata": {},
   "outputs": [],
   "source": [
    "import pandas as pd\n",
    "from math import radians, cos, sin, asin, sqrt\n",
    "    \n",
    "\n",
    "# Define the Haversine formula for calculating distance between two points\n",
    "def haversine(lat1, lon1, lat2, lon2):\n",
    "    R = 6372.8  # Earth radius in kilometers\n",
    "    dLat = radians(lat2 - lat1)\n",
    "    dLon = radians(lon2 - lon1)\n",
    "    lat1 = radians(lat1)\n",
    "    lat2 = radians(lat2)\n",
    "    a = sin(dLat/2)**2 + cos(lat1)*cos(lat2)*sin(dLon/2)**2\n",
    "    c = 2*asin(sqrt(a))\n",
    "    return R*c\n",
    "\n",
    "# Load the data\n",
    "vehicles = pd.read_csv('../data/vehicules_urgence_localisation.csv')\n",
    "incidents = pd.read_csv('../data/sites_incidents.csv')\n"
   ]
  },
  {
   "cell_type": "code",
   "execution_count": 18,
   "metadata": {},
   "outputs": [
    {
     "name": "stdout",
     "output_type": "stream",
     "text": [
      "  site_name   site_lat  site_lng  niveau_incident     type\n",
      "0   site_2   32.890255 -6.909139                1    crime\n",
      "1   site_1   32.896814 -6.914546                3    crime\n",
      "2   site_3   32.875047 -6.900556                2  medical\n",
      "3   site_4   32.889030 -6.907851                2     fire\n",
      "4   site_5   32.886580 -6.911284                3     fire\n"
     ]
    }
   ],
   "source": [
    "import pandas as pd\n",
    "import numpy as np\n",
    "\n",
    "# Define the list of possible incident types\n",
    "incident_types = ['fire', 'crime', 'medical']\n",
    "\n",
    "# Add a new column called \"type\" and assign a random incident type to each row\n",
    "incidents['type'] = np.random.choice(incident_types, size=len(df))\n",
    "\n",
    "# Print the first few rows of the updated DataFrame to verify the new column was added\n",
    "print(incidents.head())\n"
   ]
  },
  {
   "cell_type": "code",
   "execution_count": null,
   "metadata": {},
   "outputs": [],
   "source": [
    "\n",
    "# Calculate the distance between each incident site and the nearest vehicle of each type\n",
    "for i, incident in incidents.iterrows():\n",
    "    for j, vehicle in vehicles.iterrows():\n",
    "        distance = haversine(incident.site_lat, incident.site_lng, vehicle.vehicule_lat, vehicle.vehicule_lng)\n",
    "        if (j == 0) or (distance < min_distance):\n",
    "            min_distance = distance\n",
    "            min_capacity = vehicle.capacite\n",
    "            min_type = vehicle.vehicule_type\n",
    "            vehicle_id = j+1\n",
    "            vehicle_name = vehicle['nom']\n",
    "    incidents.at[i, 'vehicule_type'] = vehicle_name\n",
    "    incidents.at[i, 'vehicule_id'] = vehicle_id\n",
    "    incidents.at[i, 'min_distance'] = min_distance\n",
    "    incidents.at[i, 'min_capacity'] = min_capacity\n",
    "    incidents.at[i, 'min_type'] = min_type\n",
    "\n",
    "# Calculate the total capacity needed for each type of vehicle\n",
    "capacities = {}\n",
    "for i, incident in incidents.iterrows():\n",
    "    if incident.min_type not in capacities:\n",
    "        capacities[incident.min_type] = 0\n",
    "    capacities[incident.min_type] += incident.min_capacity\n",
    "\n",
    "# Print the results\n",
    "for vehicle_type, total_capacity in sorted(capacities.items(), key=lambda x: x[1], reverse=True):\n",
    "    print(f'{vehicle_type}: {total_capacity} capacity needed')\n",
    "\n",
    "\n"
   ]
  },
  {
   "cell_type": "code",
   "execution_count": null,
   "metadata": {},
   "outputs": [],
   "source": [
    "incidents"
   ]
  }
 ],
 "metadata": {
  "kernelspec": {
   "display_name": "env",
   "language": "python",
   "name": "python3"
  },
  "language_info": {
   "codemirror_mode": {
    "name": "ipython",
    "version": 3
   },
   "file_extension": ".py",
   "mimetype": "text/x-python",
   "name": "python",
   "nbconvert_exporter": "python",
   "pygments_lexer": "ipython3",
   "version": "3.11.2"
  },
  "orig_nbformat": 4
 },
 "nbformat": 4,
 "nbformat_minor": 2
}
