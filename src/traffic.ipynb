{
 "cells": [
  {
   "cell_type": "code",
   "execution_count": null,
   "metadata": {},
   "outputs": [],
   "source": [
    "import folium\n",
    "import requests\n"
   ]
  },
  {
   "cell_type": "code",
   "execution_count": null,
   "metadata": {},
   "outputs": [
    {
     "ename": "ParseError",
     "evalue": "syntax error: line 1, column 0 (<string>)",
     "output_type": "error",
     "traceback": [
      "Traceback \u001b[0;36m(most recent call last)\u001b[0m:\n",
      "\n",
      "\u001b[0m  File \u001b[1;32m~/Desktop/Hackathon/env/lib/python3.11/site-packages/IPython/core/interactiveshell.py:3508\u001b[0m in \u001b[1;35mrun_code\u001b[0m\n",
      "    exec(code_obj, self.user_global_ns, self.user_ns)\u001b[0m\n",
      "\n",
      "\u001b[0m  Cell \u001b[1;32mIn[2], line 15\u001b[0m\n",
      "    root = ET.fromstring(response.text)\u001b[0m\n",
      "\n",
      "\u001b[0;36m  File \u001b[0;32m/usr/lib/python3.11/xml/etree/ElementTree.py:1338\u001b[0;36m in \u001b[0;35mXML\u001b[0;36m\n",
      "\u001b[0;31m    parser.feed(text)\u001b[0;36m\n",
      "\n",
      "\u001b[0;36m  File \u001b[0;32m<string>\u001b[0;36m\u001b[0m\n",
      "\u001b[0;31mParseError\u001b[0m\u001b[0;31m:\u001b[0m syntax error: line 1, column 0\n"
     ]
    }
   ],
   "source": [
    "\n",
    "# Set the location and zoom level for the map\n",
    "location = [39.8283, -98.5795]\n",
    "zoom_level = 4\n",
    "\n",
    "# Create the map\n",
    "map = folium.Map(location=location, zoom_start=zoom_level, tiles=\"OpenStreetMap\")\n",
    "\n",
    "# Retrieve the road data from the OpenStreetMap API\n",
    "bbox = map.get_bounds()\n",
    "bbox_str = f\"{bbox[1][1]},{bbox[0][1]},{bbox[1][0]},{bbox[0][0]}\"\n",
    "response = requests.get(f\"https://www.openstreetmap.org/api/0.6/map?bbox={bbox_str}\")\n",
    "\n",
    "# Parse the XML data and extract the road information\n",
    "import xml.etree.ElementTree as ET\n",
    "root = ET.fromstring(response.text)\n",
    "\n",
    "# Create a custom style function based on the road type\n",
    "def style_function(feature):\n",
    "    road_type = feature[\"properties\"][\"highway\"]\n",
    "    if road_type == \"motorway\":\n",
    "        color = \"red\"\n",
    "    elif road_type in [\"trunk\", \"primary\"]:\n",
    "        color = \"orange\"\n",
    "    elif road_type in [\"secondary\", \"tertiary\"]:\n",
    "        color = \"yellow\"\n",
    "    else:\n",
    "        color = \"gray\"\n",
    "    return {\"color\": color}\n",
    "\n",
    "# Add a GeoJSON layer for the road data\n",
    "folium.GeoJson(\n",
    "    root,\n",
    "    style_function=style_function,\n",
    ").add_to(map)\n",
    "\n",
    "# Display the map\n",
    "map"
   ]
  }
 ],
 "metadata": {
  "kernelspec": {
   "display_name": "env",
   "language": "python",
   "name": "python3"
  },
  "language_info": {
   "name": "python",
   "version": "3.11.2"
  },
  "orig_nbformat": 4
 },
 "nbformat": 4,
 "nbformat_minor": 2
}
